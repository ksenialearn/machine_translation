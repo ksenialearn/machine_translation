{
 "cells": [
  {
   "cell_type": "markdown",
   "metadata": {},
   "source": [
    "# DS-GA 1011 Lab 8 Neural Machine Translation with Seq2Seq model and Attention"
   ]
  },
  {
   "cell_type": "markdown",
   "metadata": {},
   "source": [
    "Adapted from the PyTorch tutorials (https://pytorch.org/tutorials/intermediate/seq2seq_translation_tutorial.html)"
   ]
  },
  {
   "cell_type": "markdown",
   "metadata": {},
   "source": [
    "In this lab we will be teaching a neural network to translate from French to English.\n",
    "::\n",
    "\n",
    "    [KEY: > input, = target, < output]\n",
    "\n",
    "    > il est en train de peindre un tableau .\n",
    "    = he is painting a picture .\n",
    "    < he is painting a picture .\n",
    "\n",
    "    > pourquoi ne pas essayer ce vin delicieux ?\n",
    "    = why not try that delicious wine ?\n",
    "    < why not try that delicious wine ?\n",
    "\n",
    "    > elle n est pas poete mais romanciere .\n",
    "    = she is not a poet but a novelist .\n",
    "    < she not not a poet but a novelist .\n",
    "\n",
    "    > vous etes trop maigre .\n",
    "    = you re too skinny .\n",
    "    < you re all alone .\n",
    "\n",
    "... to varying degrees of success.\n",
    "\n",
    "This is made possible by the simple but powerful idea of the `sequence\n",
    "to sequence network <http://arxiv.org/abs/1409.3215>`__, in which two\n",
    "recurrent neural networks work together to transform one sequence to\n",
    "another. An encoder network condenses an input sequence into a vector,\n",
    "and a decoder network unfolds that vector into a new sequence.\n",
    "\n",
    "\n",
    "To improve upon this model we'll use an `attention\n",
    "mechanism <https://arxiv.org/abs/1409.0473>`__, which lets the decoder\n",
    "learn to focus over a specific range of the input sequence.\n",
    "\n"
   ]
  },
  {
   "cell_type": "code",
   "execution_count": 19,
   "metadata": {},
   "outputs": [],
   "source": [
    "from __future__ import unicode_literals, print_function, division\n",
    "from io import open\n",
    "import unicodedata\n",
    "import string\n",
    "import re\n",
    "import random\n",
    "\n",
    "import torch\n",
    "import torch.nn as nn\n",
    "from torch import optim\n",
    "import torch.nn.functional as F\n",
    "\n",
    "device = torch.device(\"cuda\" if torch.cuda.is_available() else \"cpu\")"
   ]
  },
  {
   "cell_type": "code",
   "execution_count": 1,
   "metadata": {},
   "outputs": [],
   "source": [
    "lines1 = open('iwslt-vi-en/train.tok.en', encoding='utf-8').read().strip().split('\\n')"
   ]
  },
  {
   "cell_type": "code",
   "execution_count": 2,
   "metadata": {},
   "outputs": [],
   "source": [
    "lines2 = open('iwslt-vi-en/train.tok.vi', encoding='utf-8').read().strip().split('\\n')"
   ]
  },
  {
   "cell_type": "code",
   "execution_count": 3,
   "metadata": {},
   "outputs": [],
   "source": [
    "lines=[]\n",
    "for i in range(0,len(lines1)):\n",
    "    lines.append(str(lines1[i])+str('\\t')+str(lines2[i]))"
   ]
  },
  {
   "cell_type": "code",
   "execution_count": 4,
   "metadata": {},
   "outputs": [],
   "source": [
    "for i in range(0,len(lines1)):\n",
    "    lines1[i]=lines1[i].split(' ')\n",
    "for i in range(0,len(lines2)):\n",
    "    lines2[i]=lines2[i].split(' ')"
   ]
  },
  {
   "cell_type": "code",
   "execution_count": 5,
   "metadata": {},
   "outputs": [],
   "source": [
    "l1=[]\n",
    "l2=[]\n",
    "for i in range(0,len(lines1)):\n",
    "    l1.append(len(lines1[i]))\n",
    "for i in range(0,len(lines2)):\n",
    "    l2.append(len(lines2[i]))"
   ]
  },
  {
   "cell_type": "code",
   "execution_count": 6,
   "metadata": {},
   "outputs": [
    {
     "data": {
      "text/plain": [
       "<Figure size 640x480 with 1 Axes>"
      ]
     },
     "metadata": {},
     "output_type": "display_data"
    }
   ],
   "source": [
    "from matplotlib import pyplot as plt \n",
    "import numpy as np  \n",
    "    \n",
    "plt.hist(l1, bins = [0,20,40,60,80,100]) \n",
    "plt.title(\"histogram\") \n",
    "plt.show()"
   ]
  },
  {
   "cell_type": "code",
   "execution_count": 7,
   "metadata": {},
   "outputs": [
    {
     "data": {
      "text/plain": [
       "9"
      ]
     },
     "execution_count": 7,
     "metadata": {},
     "output_type": "execute_result"
    }
   ],
   "source": [
    "l1[0]"
   ]
  },
  {
   "cell_type": "code",
   "execution_count": 8,
   "metadata": {},
   "outputs": [
    {
     "data": {
      "image/png": "[encoded data removed]",
      "text/plain": [
       "<Figure size 432x288 with 1 Axes>"
      ]
     },
     "metadata": {
      "needs_background": "light"
     },
     "output_type": "display_data"
    }
   ],
   "source": [
    "from matplotlib import pyplot as plt \n",
    "import numpy as np  \n",
    "    \n",
    "plt.hist(l1, bins = [100,200,300,400,500,600,700,800,900]) \n",
    "plt.title(\"histogram\") \n",
    "plt.show()"
   ]
  },
  {
   "cell_type": "code",
   "execution_count": 9,
   "metadata": {},
   "outputs": [
    {
     "data": {
      "image/png": "[encoded data removed]",
      "text/plain": [
       "<Figure size 432x288 with 1 Axes>"
      ]
     },
     "metadata": {
      "needs_background": "light"
     },
     "output_type": "display_data"
    }
   ],
   "source": [
    "from matplotlib import pyplot as plt \n",
    "import numpy as np  \n",
    "    \n",
    "plt.hist(l2, bins = [0,20,40,60,80,100]) \n",
    "plt.title(\"histogram\") \n",
    "plt.show()"
   ]
  },
  {
   "cell_type": "code",
   "execution_count": 10,
   "metadata": {},
   "outputs": [
    {
     "data": {
      "image/png": "[encoded data removed]",
      "text/plain": [
       "<Figure size 432x288 with 1 Axes>"
      ]
     },
     "metadata": {
      "needs_background": "light"
     },
     "output_type": "display_data"
    }
   ],
   "source": [
    "from matplotlib import pyplot as plt \n",
    "import numpy as np  \n",
    "    \n",
    "plt.hist(l2, bins = [100,200,300,400,500,600,700,800,900]) \n",
    "plt.title(\"histogram\") \n",
    "plt.show()"
   ]
  },
  {
   "cell_type": "markdown",
   "metadata": {},
   "source": [
    "## Loading Data"
   ]
  },
  {
   "cell_type": "markdown",
   "metadata": {},
   "source": [
    "Download the data from https://download.pytorch.org/tutorial/data.zip and unzip the file in the location of the notebook.\n",
    "    \n",
    "We'll use data/eng-fra.txt where each line in the file is a tab separated pair of English and French word sequence:\n",
    "\n",
    "    I am cold.    J'ai froid.\n"
   ]
  },
  {
   "cell_type": "markdown",
   "metadata": {},
   "source": [
    "## Preprocess Data\n",
    "\n",
    "We'll need a unique index per word to use as the inputs and targets of the networks later. To keep track of all this we will use a helper class called Lang which has word → index (word2index) and index → word (index2word) dictionaries, as well as a count of each word word2count to use to later replace rare words."
   ]
  },
  {
   "cell_type": "code",
   "execution_count": 30,
   "metadata": {},
   "outputs": [],
   "source": [
    "SOS_token = 0\n",
    "EOS_token = 1\n",
    "\n",
    "class Lang:\n",
    "    def __init__(self, name):\n",
    "        self.name = name\n",
    "        self.word2index = {}\n",
    "        self.word2count = {}\n",
    "        self.index2word = {0: \"SOS\", 1: \"EOS\"}\n",
    "        self.n_words = 2  # Count SOS and EOS\n",
    "\n",
    "    def addSentence(self, sentence):\n",
    "        for word in sentence.split(' '):\n",
    "            self.addWord(word)\n",
    "\n",
    "    def addWord(self, word):\n",
    "        if word not in self.word2index:\n",
    "            self.word2index[word] = self.n_words\n",
    "            self.word2count[word] = 1\n",
    "            self.index2word[self.n_words] = word\n",
    "            self.n_words += 1\n",
    "        else:\n",
    "            self.word2count[word] += 1"
   ]
  },
  {
   "cell_type": "markdown",
   "metadata": {},
   "source": [
    "The files are all in Unicode, to simplify we will turn Unicode characters to ASCII, make everything lowercase, and trim most punctuation."
   ]
  },
  {
   "cell_type": "code",
   "execution_count": 31,
   "metadata": {},
   "outputs": [],
   "source": [
    "# Turn a Unicode string to plain ASCII, thanks to\n",
    "# http://stackoverflow.com/a/518232/2809427\n",
    "# def unicodeToAscii(s):\n",
    "#     return ''.join(\n",
    "#         c for c in unicodedata.normalize('NFD', s)\n",
    "#         if unicodedata.category(c) != 'Mn'\n",
    "#     )\n",
    "\n",
    "# Lowercase, trim, and remove non-letter characters\n",
    "\n",
    "\n",
    "def normalizeString(s):\n",
    "    #s = unicodeToAscii(s.lower().strip())\n",
    "    s = re.sub(r\"([.!?])\", r\" \\1\", s)\n",
    "    #s = re.sub(r\"[^a-zA-Z.!?]+\", r\" \", s)\n",
    "    return s"
   ]
  },
  {
   "cell_type": "markdown",
   "metadata": {},
   "source": [
    "To read the data file we will split the file into lines, and then split lines into pairs. The files are all English → Other Language, so if we want to translate from Other Language → English I added the reverse flag to reverse the pairs."
   ]
  },
  {
   "cell_type": "code",
   "execution_count": 32,
   "metadata": {},
   "outputs": [],
   "source": [
    "def readLangs(lang1, lang2, reverse=False):\n",
    "    print(\"Reading lines...\")\n",
    "\n",
    "    # Read the file and split into lines\n",
    "#     lines = open('data/%s-%s.txt' % (lang1, lang2), encoding='utf-8').\\\n",
    "#         read().strip().split('\\n')\n",
    "    # Split every line into pairs and normalize\n",
    "    pairs = [[normalizeString(s) for s in l.split('\\t')] for l in lines]\n",
    "    # Reverse pairs, make Lang instances\n",
    "    if reverse:\n",
    "        pairs = [list(reversed(p)) for p in pairs]\n",
    "        input_lang = Lang(lang2)\n",
    "        output_lang = Lang(lang1)\n",
    "    else:\n",
    "        input_lang = Lang(lang1)\n",
    "        output_lang = Lang(lang2)\n",
    "\n",
    "    return input_lang, output_lang, pairs"
   ]
  },
  {
   "cell_type": "markdown",
   "metadata": {},
   "source": [
    "Since there are a *lot* of example sentences and we want to train\n",
    "something quickly, we'll trim the data set to only relatively short and\n",
    "simple sentences. Here the maximum length is 10 words (that includes\n",
    "ending punctuation) and we're filtering to sentences that translate to\n",
    "the form \"I am\" or \"He is\" etc. (accounting for apostrophes replaced\n",
    "earlier).\n",
    "\n",
    "\n"
   ]
  },
  {
   "cell_type": "code",
   "execution_count": 33,
   "metadata": {},
   "outputs": [],
   "source": [
    "MAX_LENGTH = 40\n",
    "\n",
    "# eng_prefixes = (\n",
    "#     \"i am \", \"i m \",\n",
    "#     \"he is\", \"he s \",\n",
    "#     \"she is\", \"she s\",\n",
    "#     \"you are\", \"you re \",\n",
    "#     \"we are\", \"we re \",\n",
    "#     \"they are\", \"they re \"\n",
    "# )\n",
    "\n",
    "\n",
    "def filterPair(p):\n",
    "    return len(p[0].split(' ')) < MAX_LENGTH and \\\n",
    "        len(p[1].split(' ')) < MAX_LENGTH \n",
    " #and p[1].startswith(eng_prefixes)\n",
    "\n",
    "\n",
    "def filterPairs(pairs):\n",
    "    return [pair for pair in pairs if filterPair(pair)]"
   ]
  },
  {
   "cell_type": "markdown",
   "metadata": {},
   "source": [
    "The full process for preparing the data is:\n",
    "\n",
    "-  Read text file and split into lines, split lines into pairs\n",
    "-  Normalize text, filter by length and content\n",
    "-  Make word lists from sentences in pairs\n",
    "\n",
    "\n"
   ]
  },
  {
   "cell_type": "code",
   "execution_count": 34,
   "metadata": {
    "scrolled": true
   },
   "outputs": [
    {
     "name": "stdout",
     "output_type": "stream",
     "text": [
      "Reading lines...\n",
      "Read 133317 sentence pairs\n",
      "Trimmed to 118068 sentence pairs\n",
      "Counting words...\n"
     ]
    },
    {
     "name": "stderr",
     "output_type": "stream",
     "text": [
      "IOPub data rate exceeded.\n",
      "The notebook server will temporarily stop sending output\n",
      "to the client in order to avoid crashing it.\n",
      "To change this limit, set the config variable\n",
      "`--NotebookApp.iopub_data_rate_limit`.\n",
      "\n",
      "Current values:\n",
      "NotebookApp.iopub_data_rate_limit=1000000.0 (bytes/sec)\n",
      "NotebookApp.rate_limit_window=3.0 (secs)\n",
      "\n"
     ]
    },
    {
     "name": "stdout",
     "output_type": "stream",
     "text": [
      " 46129\n",
      "['Và ngay khi tôi đang có ý nghĩ đó , nó nhìn lên tôi và nói , \" Vậy khi con lớn lên , con có_thể chiếu cái này cho con của con phải không  ? \"', 'And just as I was having that thought , he looked up at me and said , &quot; So that when I grow up , I can show this to my kids  ? &quot;']\n"
     ]
    }
   ],
   "source": [
    "def prepareData(lang1, lang2, reverse=False):\n",
    "    input_lang, output_lang, pairs = readLangs(lines1, lines2, reverse)\n",
    "    print(\"Read %s sentence pairs\" % len(pairs))\n",
    "    pairs = filterPairs(pairs)\n",
    "    print(\"Trimmed to %s sentence pairs\" % len(pairs))\n",
    "    print(\"Counting words...\")\n",
    "    for pair in pairs:\n",
    "        input_lang.addSentence(pair[0])\n",
    "        output_lang.addSentence(pair[1])\n",
    "    print(\"Counted words:\")\n",
    "    print(input_lang.name, input_lang.n_words)\n",
    "    print(output_lang.name, output_lang.n_words)\n",
    "    return input_lang, output_lang, pairs\n",
    "\n",
    "\n",
    "input_lang, output_lang, pairs = prepareData('eng', 'vi', True)\n",
    "print(random.choice(pairs))"
   ]
  },
  {
   "cell_type": "code",
   "execution_count": 38,
   "metadata": {},
   "outputs": [
    {
     "data": {
      "text/plain": [
       "['Khoa_học đằng_sau một tiêu_đề về khí_hậu',\n",
       " 'Rachel Pike : The science behind a climate headline']"
      ]
     },
     "execution_count": 38,
     "metadata": {},
     "output_type": "execute_result"
    }
   ],
   "source": [
    "pairs[0]"
   ]
  },
  {
   "cell_type": "code",
   "execution_count": 39,
   "metadata": {},
   "outputs": [
    {
     "data": {
      "text/plain": [
       "['Rachel', 'Pike', ':', 'The', 'science', 'behind', 'a', 'climate', 'headline']"
      ]
     },
     "execution_count": 39,
     "metadata": {},
     "output_type": "execute_result"
    }
   ],
   "source": [
    "lines1[0]"
   ]
  },
  {
   "cell_type": "code",
   "execution_count": 40,
   "metadata": {},
   "outputs": [
    {
     "data": {
      "text/plain": [
       "['Khoa_học', 'đằng_sau', 'một', 'tiêu_đề', 'về', 'khí_hậu']"
      ]
     },
     "execution_count": 40,
     "metadata": {},
     "output_type": "execute_result"
    }
   ],
   "source": [
    "lines2[0]"
   ]
  },
  {
   "cell_type": "markdown",
   "metadata": {},
   "source": [
    "The Seq2Seq Model\n",
    "=================\n",
    "\n",
    "A Recurrent Neural Network, or RNN, is a network that operates on a\n",
    "sequence and uses its own output as input for subsequent steps.\n",
    "\n",
    "A `Sequence to Sequence network <http://arxiv.org/abs/1409.3215>`__, or\n",
    "seq2seq network, or `Encoder Decoder\n",
    "network <https://arxiv.org/pdf/1406.1078v3.pdf>`__, is a model\n",
    "consisting of two RNNs called the encoder and decoder. The encoder reads\n",
    "an input sequence and outputs a single vector, and the decoder reads\n",
    "that vector to produce an output sequence.\n",
    "\n",
    "Unlike sequence prediction with a single RNN, where every input\n",
    "corresponds to an output, the seq2seq model frees us from sequence\n",
    "length and order, which makes it ideal for translation between two\n",
    "languages.\n",
    "\n",
    "Consider the sentence \"Je ne suis pas le chat noir\" → \"I am not the\n",
    "black cat\". Most of the words in the input sentence have a direct\n",
    "translation in the output sentence, but are in slightly different\n",
    "orders, e.g. \"chat noir\" and \"black cat\". Because of the \"ne/pas\"\n",
    "construction there is also one more word in the input sentence. It would\n",
    "be difficult to produce a correct translation directly from the sequence\n",
    "of input words.\n",
    "\n",
    "With a seq2seq model the encoder creates a single vector which, in the\n",
    "ideal case, encodes the \"meaning\" of the input sequence into a single\n",
    "vector — a single point in some N dimensional space of sentences.\n",
    "\n",
    "\n"
   ]
  },
  {
   "cell_type": "markdown",
   "metadata": {},
   "source": [
    "The Encoder\n",
    "-----------\n",
    "\n",
    "The encoder of a seq2seq network is a RNN that outputs some value for\n",
    "every word from the input sentence. For every input word the encoder\n",
    "outputs a vector and a hidden state, and uses the hidden state for the\n",
    "next input word."
   ]
  },
  {
   "cell_type": "code",
   "execution_count": 41,
   "metadata": {},
   "outputs": [],
   "source": [
    "class EncoderRNN(nn.Module):\n",
    "    def __init__(self, input_size, hidden_size):\n",
    "        super(EncoderRNN, self).__init__()\n",
    "        self.hidden_size = hidden_size\n",
    "\n",
    "        self.embedding = nn.Embedding(input_size, hidden_size)\n",
    "        self.gru = nn.GRU(hidden_size, hidden_size)\n",
    "\n",
    "    def forward(self, input, hidden):\n",
    "        embedded = self.embedding(input).view(1, 1, -1)\n",
    "        output = embedded\n",
    "        output, hidden = self.gru(output, hidden)\n",
    "        return output, hidden\n",
    "\n",
    "    def initHidden(self):\n",
    "        return torch.zeros(1, 1, self.hidden_size, device=device)"
   ]
  },
  {
   "cell_type": "markdown",
   "metadata": {},
   "source": [
    "The Decoder\n",
    "--------------------\n",
    "\n",
    "\n",
    "The decoder is another RNN that takes the encoder output vector(s) and outputs a sequence of words to create the translation.\n",
    "\n",
    "Decoder w/o Attention\n",
    "------------------------\n",
    "In the simplest seq2seq decoder we use only last output of the encoder. This last output is sometimes called the context vector as it encodes context from the entire sequence. This context vector is used as the initial hidden state of the decoder.\n",
    "\n",
    "At every step of decoding, the decoder is given an input token and hidden state. The initial input token is the start-of-string <SOS> token, and the first hidden state is the context vector (the encoder's last hidden state)."
   ]
  },
  {
   "cell_type": "code",
   "execution_count": 42,
   "metadata": {},
   "outputs": [],
   "source": [
    "class DecoderRNN(nn.Module):\n",
    "    def __init__(self, hidden_size, output_size):\n",
    "        super(DecoderRNN, self).__init__()\n",
    "        self.hidden_size = hidden_size\n",
    "\n",
    "        self.embedding = nn.Embedding(output_size, hidden_size)\n",
    "        self.gru = nn.GRU(hidden_size, hidden_size)\n",
    "        self.out = nn.Linear(hidden_size, output_size)\n",
    "        self.softmax = nn.LogSoftmax(dim=1)\n",
    "\n",
    "    def forward(self, input, hidden):\n",
    "        output = self.embedding(input).view(1, 1, -1)\n",
    "        output = F.relu(output)\n",
    "        output, hidden = self.gru(output, hidden)\n",
    "        output = self.softmax(self.out(output[0]))\n",
    "        return output, hidden\n",
    "\n",
    "    def initHidden(self):\n",
    "        return torch.zeros(1, 1, self.hidden_size, device=device)"
   ]
  },
  {
   "cell_type": "markdown",
   "metadata": {},
   "source": [
    "I encourage you to train and observe the results of this model, but to\n",
    "save space we'll be going straight for the gold and introducing the\n",
    "Attention Mechanism.\n",
    "\n",
    "\n"
   ]
  },
  {
   "cell_type": "markdown",
   "metadata": {},
   "source": [
    "Attention Decoder\n",
    "----------------\n",
    "\n",
    "If only the context vector is passed betweeen the encoder and decoder,\n",
    "that single vector carries the burden of encoding the entire sentence.\n",
    "\n",
    "Attention allows the decoder network to \"focus\" on a different part of\n",
    "the encoder's outputs for every step of the decoder's own outputs. First\n",
    "we calculate a set of *attention weights*. These will be multiplied by\n",
    "the encoder output vectors to create a weighted combination. The result\n",
    "(called ``attn_applied`` in the code) should contain information about\n",
    "that specific part of the input sequence, and thus help the decoder\n",
    "choose the right output words.\n",
    "\n",
    "Calculating the attention weights is done with another feed-forward\n",
    "layer ``attn``, using the decoder's input and hidden state as inputs.\n",
    "Because there are sentences of all sizes in the training data, to\n",
    "actually create and train this layer we have to choose a maximum\n",
    "sentence length (input length, for encoder outputs) that it can apply\n",
    "to. Sentences of the maximum length will use all the attention weights,\n",
    "while shorter sentences will only use the first few.\n"
   ]
  },
  {
   "cell_type": "code",
   "execution_count": 43,
   "metadata": {},
   "outputs": [],
   "source": [
    "class BahdanauAttnDecoderRNN(nn.Module):\n",
    "    def __init__(self, hidden_size, output_size, n_layers=1, dropout_p=0.1):\n",
    "        super(BahdanauAttnDecoderRNN, self).__init__()\n",
    "        \n",
    "        # Define parameters\n",
    "        self.hidden_size = hidden_size\n",
    "        self.output_size = output_size\n",
    "        self.n_layers = n_layers\n",
    "        self.dropout_p = dropout_p\n",
    "        \n",
    "        # Define layers\n",
    "        self.embedding = nn.Embedding(output_size, hidden_size)\n",
    "        self.dropout = nn.Dropout(dropout_p)\n",
    "        self.attn = nn.Linear(hidden_size, hidden_size)\n",
    "        self.gru = nn.GRU(hidden_size * 2, hidden_size, n_layers, dropout=dropout_p)\n",
    "        self.out = nn.Linear(hidden_size, output_size)\n",
    "    \n",
    "    def forward(self, word_input, last_hidden, encoder_outputs):\n",
    "        # Note that we will only be running forward for a single decoder time step, but will use all encoder outputs\n",
    "        \n",
    "        # Get the embedding of the current input word (last output word)\n",
    "        word_embedded = self.embedding(word_input).view(1, 1, -1) # S=1 x B x N\n",
    "        word_embedded = self.dropout(word_embedded)\n",
    "        \n",
    "        ##############################\n",
    "        # TODO: Implement Attention  #\n",
    "        ##############################\n",
    "        rnn_input = word_embedded\n",
    "        \n",
    "        output, hidden = self.gru(rnn_input, last_hidden)\n",
    "        \n",
    "        # Final output layer\n",
    "        output = output.squeeze(0) # B x N\n",
    "        output = F.log_softmax(self.out(output))\n",
    "        \n",
    "        # Return final output, hidden state, and attention weights (for visualization)\n",
    "        return output, hidden, attn_weights"
   ]
  },
  {
   "cell_type": "markdown",
   "metadata": {},
   "source": [
    "\n",
    "\n",
    "Training\n",
    "========\n",
    "\n",
    "Preparing Training Data\n",
    "-----------------------\n",
    "\n",
    "To train, for each pair we will need an input tensor (indexes of the\n",
    "words in the input sentence) and target tensor (indexes of the words in\n",
    "the target sentence). While creating these vectors we will append the\n",
    "EOS token to both sequences.\n",
    "\n",
    "\n"
   ]
  },
  {
   "cell_type": "code",
   "execution_count": 44,
   "metadata": {},
   "outputs": [],
   "source": [
    "def indexesFromSentence(lang, sentence):\n",
    "    return [lang.word2index[word] for word in sentence.split(' ')]\n",
    "\n",
    "\n",
    "def tensorFromSentence(lang, sentence):\n",
    "    indexes = indexesFromSentence(lang, sentence)\n",
    "    indexes.append(EOS_token)\n",
    "    return torch.tensor(indexes, dtype=torch.long, device=device).view(-1, 1)\n",
    "\n",
    "\n",
    "def tensorsFromPair(pair):\n",
    "    input_tensor = tensorFromSentence(input_lang, pair[0])\n",
    "    target_tensor = tensorFromSentence(output_lang, pair[1])\n",
    "    return (input_tensor, target_tensor)"
   ]
  },
  {
   "cell_type": "markdown",
   "metadata": {},
   "source": [
    "Training the Model\n",
    "------------------\n",
    "\n",
    "To train we run the input sentence through the encoder, and keep track\n",
    "of every output and the latest hidden state. Then the decoder is given\n",
    "the ``<SOS>`` token as its first input, and the last hidden state of the\n",
    "encoder as its first hidden state.\n",
    "\n",
    "**\"Teacher Forcing\"**, or maximum likelihood sampling, means using the real target outputs as each next input when training. The alternative is using the decoder's own guess as the next input. Using teacher forcing may cause the network to converge faster, but when the trained network is exploited, it may exhibit instability.\n",
    "\n",
    "You can observe outputs of teacher-forced networks that read with coherent grammar but wander far from the correct translation - you could think of it as having learned how to listen to the teacher's instructions, without learning how to venture out on its own.\n",
    "\n",
    "The solution to the teacher-forcing \"problem\" is known as [Scheduled Sampling](https://arxiv.org/abs/1506.03099), which simply alternates between using the target values and predicted values when training. We will randomly choose to use teacher forcing with an if statement while training - sometimes we'll feed use real target as the input (ignoring the decoder's output), sometimes we'll use the decoder's output.\n",
    "\n",
    "\n",
    "Because of the freedom PyTorch's autograd gives us, we can randomly\n",
    "choose to use teacher forcing or not with a simple if statement. Turn\n",
    "``teacher_forcing_ratio`` up to use more of it.\n",
    "\n",
    "\n"
   ]
  },
  {
   "cell_type": "code",
   "execution_count": 45,
   "metadata": {},
   "outputs": [],
   "source": [
    "teacher_forcing_ratio = 0.5\n",
    "\n",
    "\n",
    "def train(input_tensor, target_tensor, encoder, decoder, encoder_optimizer, decoder_optimizer, criterion, max_length=MAX_LENGTH):\n",
    "    encoder_hidden = encoder.initHidden()\n",
    "\n",
    "    encoder_optimizer.zero_grad()\n",
    "    decoder_optimizer.zero_grad()\n",
    "\n",
    "    input_length = input_tensor.size(0)\n",
    "    target_length = target_tensor.size(0)\n",
    "\n",
    "    encoder_outputs = torch.zeros(max_length, encoder.hidden_size, device=device)\n",
    "\n",
    "    loss = 0\n",
    "\n",
    "    for ei in range(input_length):\n",
    "        encoder_output, encoder_hidden = encoder(\n",
    "            input_tensor[ei], encoder_hidden)\n",
    "        encoder_outputs[ei] = encoder_output[0, 0]\n",
    "\n",
    "    decoder_input = torch.tensor([[SOS_token]], device=device)\n",
    "\n",
    "    decoder_hidden = encoder_hidden\n",
    "\n",
    "#     use_teacher_forcing = True if random.random() < teacher_forcing_ratio else False\n",
    "\n",
    "#     if use_teacher_forcing:\n",
    "#         # Teacher forcing: Feed the target as the next input\n",
    "#         for di in range(target_length):\n",
    "#             decoder_output, decoder_hidden, decoder_attention = decoder(\n",
    "#                 decoder_input, decoder_hidden, encoder_outputs)\n",
    "#             loss += criterion(decoder_output, target_tensor[di])\n",
    "#             decoder_input = target_tensor[di]  # Teacher forcing\n",
    "\n",
    "#    else:\n",
    "        # Without teacher forcing: use its own predictions as the next input\n",
    "    for di in range(target_length):\n",
    "        decoder_output, decoder_hidden = decoder(decoder_input, decoder_hidden)\n",
    "        topv, topi = decoder_output.topk(1)\n",
    "        decoder_input = topi.squeeze().detach()  # detach from history as input\n",
    "\n",
    "        loss += criterion(decoder_output, target_tensor[di])\n",
    "        if decoder_input.item() == EOS_token:\n",
    "            break\n",
    "\n",
    "    loss.backward()\n",
    "\n",
    "    encoder_optimizer.step()\n",
    "    decoder_optimizer.step()\n",
    "\n",
    "    return loss.item() / target_length"
   ]
  },
  {
   "cell_type": "markdown",
   "metadata": {},
   "source": [
    "This is a helper function to print time elapsed and estimated time\n",
    "remaining given the current time and progress %.\n",
    "\n",
    "\n"
   ]
  },
  {
   "cell_type": "code",
   "execution_count": 46,
   "metadata": {},
   "outputs": [],
   "source": [
    "import time\n",
    "import math\n",
    "\n",
    "\n",
    "def asMinutes(s):\n",
    "    m = math.floor(s / 60)\n",
    "    s -= m * 60\n",
    "    return '%dm %ds' % (m, s)\n",
    "\n",
    "\n",
    "def timeSince(since, percent):\n",
    "    now = time.time()\n",
    "    s = now - since\n",
    "    es = s / (percent)\n",
    "    rs = es - s\n",
    "    return '%s (- %s)' % (asMinutes(s), asMinutes(rs))"
   ]
  },
  {
   "cell_type": "markdown",
   "metadata": {},
   "source": [
    "The whole training process looks like this:\n",
    "\n",
    "-  Start a timer\n",
    "-  Initialize optimizers and criterion\n",
    "-  Create set of training pairs\n",
    "-  Start empty losses array for plotting\n",
    "\n",
    "Then we call ``train`` many times and occasionally print the progress (%\n",
    "of examples, time so far, estimated time) and average loss.\n",
    "\n",
    "\n"
   ]
  },
  {
   "cell_type": "code",
   "execution_count": 47,
   "metadata": {},
   "outputs": [],
   "source": [
    "def trainIters(encoder, decoder, n_iters, print_every=1000, plot_every=100, learning_rate=0.01):\n",
    "    start = time.time()\n",
    "    plot_losses = []\n",
    "    print_loss_total = 0  # Reset every print_every\n",
    "    plot_loss_total = 0  # Reset every plot_every\n",
    "\n",
    "    encoder_optimizer = optim.SGD(encoder.parameters(), lr=learning_rate)\n",
    "    decoder_optimizer = optim.SGD(decoder.parameters(), lr=learning_rate)\n",
    "    training_pairs = [tensorsFromPair(random.choice(pairs))\n",
    "                      for i in range(n_iters)]\n",
    "    criterion = nn.NLLLoss()\n",
    "\n",
    "    for iter in range(1, n_iters + 1):\n",
    "        training_pair = training_pairs[iter - 1]\n",
    "        input_tensor = training_pair[0]\n",
    "        target_tensor = training_pair[1]\n",
    "\n",
    "        loss = train(input_tensor, target_tensor, encoder,\n",
    "                     decoder, encoder_optimizer, decoder_optimizer, criterion)\n",
    "        print_loss_total += loss\n",
    "        plot_loss_total += loss\n",
    "\n",
    "        if iter % print_every == 0:\n",
    "            print_loss_avg = print_loss_total / print_every\n",
    "            print_loss_total = 0\n",
    "            print('%s (%d %d%%) %.4f' % (timeSince(start, iter / n_iters),\n",
    "                                         iter, iter / n_iters * 100, print_loss_avg))\n",
    "\n",
    "        if iter % plot_every == 0:\n",
    "            plot_loss_avg = plot_loss_total / plot_every\n",
    "            plot_losses.append(plot_loss_avg)\n",
    "            plot_loss_total = 0\n",
    "\n",
    "    showPlot(plot_losses)"
   ]
  },
  {
   "cell_type": "markdown",
   "metadata": {},
   "source": [
    "Plotting results\n",
    "----------------\n",
    "\n",
    "Plotting is done with matplotlib, using the array of loss values\n",
    "``plot_losses`` saved while training.\n",
    "\n",
    "\n"
   ]
  },
  {
   "cell_type": "code",
   "execution_count": 48,
   "metadata": {},
   "outputs": [],
   "source": [
    "import matplotlib.pyplot as plt\n",
    "plt.switch_backend('agg')\n",
    "import matplotlib.ticker as ticker\n",
    "import numpy as np\n",
    "%matplotlib inline\n",
    "\n",
    "def showPlot(points):\n",
    "    plt.figure()\n",
    "    fig, ax = plt.subplots()\n",
    "    # this locator puts ticks at regular intervals\n",
    "    loc = ticker.MultipleLocator(base=0.2)\n",
    "    ax.yaxis.set_major_locator(loc)\n",
    "    plt.plot(points)"
   ]
  },
  {
   "cell_type": "markdown",
   "metadata": {},
   "source": [
    "Evaluation\n",
    "==========\n",
    "\n",
    "Evaluation is mostly the same as training, but there are no targets so\n",
    "we simply feed the decoder's predictions back to itself for each step.\n",
    "Every time it predicts a word we add it to the output string, and if it\n",
    "predicts the EOS token we stop there. We also store the decoder's\n",
    "attention outputs for display later.\n",
    "\n",
    "\n"
   ]
  },
  {
   "cell_type": "code",
   "execution_count": 49,
   "metadata": {},
   "outputs": [],
   "source": [
    "def evaluate(encoder, decoder, sentence, max_length=MAX_LENGTH):\n",
    "    \"\"\"\n",
    "    Function that generate translation.\n",
    "    First, feed the source sentence into the encoder and obtain the hidden states from encoder.\n",
    "    Secondly, feed the hidden states into the decoder and unfold the outputs from the decoder.\n",
    "    Lastly, for each outputs from the decoder, collect the corresponding words in the target language's vocabulary.\n",
    "    And collect the attention for each output words.\n",
    "    @param encoder: the encoder network\n",
    "    @param decoder: the decoder network\n",
    "    @param sentence: string, a sentence in source language to be translated\n",
    "    @param max_length: the max # of words that the decoder can return\n",
    "    @output decoded_words: a list of words in target language\n",
    "    @output decoder_attentions: a list of vector, each of which sums up to 1.0\n",
    "    \"\"\"    \n",
    "    # process input sentence\n",
    "    with torch.no_grad():\n",
    "        input_tensor = tensorFromSentence(input_lang, sentence)\n",
    "        input_length = input_tensor.size()[0]\n",
    "        # encode the source lanugage\n",
    "        encoder_hidden = encoder.initHidden()\n",
    "\n",
    "        encoder_outputs = torch.zeros(max_length, encoder.hidden_size, device=device)\n",
    "\n",
    "        for ei in range(input_length):\n",
    "            encoder_output, encoder_hidden = encoder(input_tensor[ei],\n",
    "                                                     encoder_hidden)\n",
    "            encoder_outputs[ei] += encoder_output[0, 0]\n",
    "\n",
    "        decoder_input = torch.tensor([[SOS_token]], device=device)  # SOS\n",
    "        # decode the context vector\n",
    "        decoder_hidden = encoder_hidden # decoder starts from the last encoding sentence\n",
    "        # output of this function\n",
    "        decoded_words = []\n",
    "        #decoder_attentions = torch.zeros(max_length, max_length)\n",
    "\n",
    "        for di in range(max_length):\n",
    "            # for each time step, the decoder network takes two inputs: previous outputs and the previous hidden states\n",
    "            decoder_output, decoder_hidden = decoder(\n",
    "                decoder_input, decoder_hidden)\n",
    "            \n",
    "            # hint: print out decoder_output and decoder_attention\n",
    "            # TODO: add your code here to populate decoded_words and decoder_attentions\n",
    "            # TODO: do this in 2 ways discussed in class: greedy & beam_search\n",
    "            \n",
    "            # END TO DO\n",
    "            \n",
    "            decoder_input = topi.squeeze().detach()\n",
    "\n",
    "        return decoded_words, decoder_attentions[:di + 1]"
   ]
  },
  {
   "cell_type": "markdown",
   "metadata": {},
   "source": [
    "We can evaluate random sentences from the training set and print out the\n",
    "input, target, and output to make some subjective quality judgements:\n",
    "\n",
    "\n"
   ]
  },
  {
   "cell_type": "code",
   "execution_count": 50,
   "metadata": {},
   "outputs": [],
   "source": [
    "def evaluateRandomly(encoder, decoder, n=10):\n",
    "    \"\"\"\n",
    "    Randomly select a English sentence from the dataset and try to produce its French translation.\n",
    "    Note that you need a correct implementation of evaluate() in order to make this function work.\n",
    "    \"\"\"    \n",
    "    for i in range(n):\n",
    "        pair = random.choice(pairs)\n",
    "        print('>', pair[0])\n",
    "        print('=', pair[1])\n",
    "        output_words, attentions = evaluate(encoder, decoder, pair[0])\n",
    "        output_sentence = ' '.join(output_words)\n",
    "        print('<', output_sentence)\n",
    "        print('')"
   ]
  },
  {
   "cell_type": "markdown",
   "metadata": {},
   "source": [
    "Training and Evaluating\n",
    "=======================\n",
    "\n",
    "With all these helper functions in place (it looks like extra work, but\n",
    "it makes it easier to run multiple experiments) we can actually\n",
    "initialize a network and start training.\n",
    "\n",
    "Remember that the input sentences were heavily filtered. For this small\n",
    "dataset we can use relatively small networks of 256 hidden nodes and a\n",
    "single GRU layer. After about 40 minutes on a MacBook CPU we'll get some\n",
    "reasonable results.\n",
    "\n",
    ".. Note::\n",
    "   If you run this notebook you can train, interrupt the kernel,\n",
    "   evaluate, and continue training later. Comment out the lines where the\n",
    "   encoder and decoder are initialized and run ``trainIters`` again.\n",
    "\n",
    "\n"
   ]
  },
  {
   "cell_type": "code",
   "execution_count": null,
   "metadata": {},
   "outputs": [
    {
     "name": "stdout",
     "output_type": "stream",
     "text": [
      "2m 5s (- 1567m 33s) (100 0%) 3.9386\n",
      "4m 2s (- 1512m 28s) (200 0%) 4.2728\n",
      "5m 55s (- 1475m 47s) (300 0%) 4.6037\n",
      "8m 9s (- 1521m 42s) (400 0%) 4.9586\n",
      "10m 21s (- 1542m 36s) (500 0%) 4.4427\n",
      "12m 33s (- 1557m 10s) (600 0%) 4.4088\n",
      "14m 32s (- 1543m 4s) (700 0%) 4.2407\n",
      "16m 28s (- 1527m 39s) (800 1%) 4.1010\n",
      "18m 33s (- 1528m 17s) (900 1%) 4.3259\n",
      "20m 51s (- 1542m 54s) (1000 1%) 4.3631\n",
      "23m 14s (- 1561m 0s) (1100 1%) 4.7920\n",
      "25m 42s (- 1581m 17s) (1200 1%) 4.7181\n",
      "27m 33s (- 1562m 31s) (1300 1%) 4.5261\n",
      "29m 11s (- 1534m 27s) (1400 1%) 3.8769\n",
      "30m 53s (- 1513m 32s) (1500 2%) 4.3330\n",
      "32m 52s (- 1508m 1s) (1600 2%) 4.3609\n",
      "34m 50s (- 1502m 12s) (1700 2%) 4.2729\n",
      "36m 47s (- 1495m 58s) (1800 2%) 4.2738\n",
      "38m 46s (- 1491m 46s) (1900 2%) 4.1695\n",
      "40m 34s (- 1481m 0s) (2000 2%) 3.9249\n",
      "42m 26s (- 1473m 2s) (2100 2%) 4.1210\n",
      "44m 25s (- 1470m 12s) (2200 2%) 4.4608\n",
      "46m 14s (- 1461m 28s) (2300 3%) 4.0206\n",
      "48m 15s (- 1459m 59s) (2400 3%) 4.4176\n",
      "50m 14s (- 1456m 51s) (2500 3%) 4.2003\n",
      "52m 12s (- 1453m 52s) (2600 3%) 4.3118\n",
      "54m 18s (- 1454m 27s) (2700 3%) 4.3999\n",
      "56m 14s (- 1450m 8s) (2800 3%) 4.3336\n",
      "58m 7s (- 1445m 6s) (2900 3%) 4.3488\n",
      "60m 3s (- 1441m 16s) (3000 4%) 4.5359\n",
      "61m 55s (- 1436m 15s) (3100 4%) 4.1361\n",
      "64m 1s (- 1436m 44s) (3200 4%) 4.5898\n",
      "65m 55s (- 1432m 22s) (3300 4%) 3.8094\n",
      "67m 54s (- 1430m 14s) (3400 4%) 4.5735\n",
      "69m 52s (- 1427m 20s) (3500 4%) 4.4412\n",
      "71m 43s (- 1422m 32s) (3600 4%) 3.8526\n",
      "73m 29s (- 1416m 21s) (3700 4%) 3.9135\n",
      "75m 24s (- 1412m 55s) (3800 5%) 4.3213\n",
      "77m 31s (- 1413m 21s) (3900 5%) 4.2687\n",
      "79m 29s (- 1411m 2s) (4000 5%) 4.2487\n",
      "81m 46s (- 1414m 11s) (4100 5%) 4.6792\n",
      "83m 48s (- 1412m 51s) (4200 5%) 4.5755\n",
      "85m 51s (- 1411m 32s) (4300 5%) 4.1834\n",
      "87m 46s (- 1408m 15s) (4400 5%) 4.3331\n",
      "90m 2s (- 1410m 35s) (4500 6%) 4.5609\n",
      "92m 11s (- 1410m 53s) (4600 6%) 4.5508\n",
      "94m 12s (- 1409m 10s) (4700 6%) 4.1158\n",
      "96m 33s (- 1412m 11s) (4800 6%) 4.7634\n",
      "98m 46s (- 1413m 7s) (4900 6%) 4.7960\n",
      "100m 55s (- 1412m 54s) (5000 6%) 4.6035\n",
      "103m 7s (- 1413m 26s) (5100 6%) 4.6241\n",
      "105m 23s (- 1414m 45s) (5200 6%) 4.9355\n",
      "107m 21s (- 1411m 47s) (5300 7%) 4.5788\n",
      "109m 32s (- 1411m 56s) (5400 7%) 4.6385\n",
      "111m 52s (- 1413m 43s) (5500 7%) 5.0227\n",
      "114m 13s (- 1415m 28s) (5600 7%) 4.7598\n",
      "116m 29s (- 1416m 14s) (5700 7%) 4.9528\n",
      "118m 33s (- 1414m 25s) (5800 7%) 4.6652\n",
      "120m 44s (- 1414m 11s) (5900 7%) 4.8250\n",
      "123m 7s (- 1415m 54s) (6000 8%) 4.8975\n",
      "125m 19s (- 1415m 27s) (6100 8%) 4.7094\n",
      "127m 32s (- 1415m 15s) (6200 8%) 4.9727\n",
      "129m 58s (- 1417m 22s) (6300 8%) 5.0936\n",
      "132m 22s (- 1418m 50s) (6400 8%) 5.0778\n",
      "134m 37s (- 1418m 48s) (6500 8%) 4.7818\n",
      "136m 55s (- 1418m 59s) (6600 8%) 4.9071\n",
      "139m 17s (- 1419m 59s) (6700 8%) 4.9504\n",
      "141m 40s (- 1420m 56s) (6800 9%) 4.8755\n",
      "144m 18s (- 1424m 19s) (6900 9%) 4.8159\n",
      "147m 3s (- 1428m 29s) (7000 9%) 4.9607\n",
      "149m 27s (- 1429m 23s) (7100 9%) 4.6512\n",
      "152m 5s (- 1432m 8s) (7200 9%) 4.9932\n",
      "154m 23s (- 1431m 53s) (7300 9%) 5.0349\n",
      "157m 3s (- 1434m 48s) (7400 9%) 4.9045\n",
      "159m 25s (- 1434m 50s) (7500 10%) 4.9607\n",
      "162m 7s (- 1437m 43s) (7600 10%) 4.6899\n",
      "164m 53s (- 1441m 16s) (7700 10%) 5.0091\n",
      "167m 41s (- 1444m 45s) (7800 10%) 4.9054\n",
      "170m 25s (- 1447m 36s) (7900 10%) 4.8356\n",
      "173m 17s (- 1451m 19s) (8000 10%) 5.1375\n",
      "176m 2s (- 1453m 55s) (8100 10%) 4.8812\n",
      "178m 48s (- 1456m 37s) (8200 10%) 4.9041\n",
      "181m 30s (- 1458m 36s) (8300 11%) 5.1300\n",
      "184m 32s (- 1463m 9s) (8400 11%) 4.9188\n",
      "187m 19s (- 1465m 32s) (8500 11%) 4.9482\n",
      "189m 45s (- 1465m 9s) (8600 11%) 4.8366\n",
      "192m 12s (- 1464m 42s) (8700 11%) 5.0898\n",
      "194m 29s (- 1463m 3s) (8800 11%) 4.6702\n",
      "197m 7s (- 1464m 5s) (8900 11%) 5.0250\n",
      "199m 42s (- 1464m 33s) (9000 12%) 4.9089\n",
      "202m 9s (- 1463m 58s) (9100 12%) 4.7677\n",
      "204m 46s (- 1464m 36s) (9200 12%) 4.9221\n",
      "207m 13s (- 1463m 54s) (9300 12%) 4.6806\n",
      "209m 39s (- 1463m 10s) (9400 12%) 5.0392\n",
      "211m 57s (- 1461m 21s) (9500 12%) 4.8764\n",
      "214m 27s (- 1460m 59s) (9600 12%) 4.6308\n",
      "217m 1s (- 1460m 58s) (9700 12%) 4.9936\n",
      "219m 24s (- 1459m 46s) (9800 13%) 4.8719\n",
      "221m 45s (- 1458m 10s) (9900 13%) 5.1093\n",
      "224m 7s (- 1456m 48s) (10000 13%) 4.9398\n",
      "226m 25s (- 1454m 54s) (10100 13%) 4.8646\n",
      "228m 41s (- 1452m 49s) (10200 13%) 4.9391\n",
      "230m 58s (- 1450m 54s) (10300 13%) 5.1606\n",
      "233m 34s (- 1450m 49s) (10400 13%) 4.9309\n",
      "236m 3s (- 1450m 6s) (10500 14%) 4.6251\n",
      "238m 25s (- 1448m 30s) (10600 14%) 5.1778\n",
      "240m 33s (- 1445m 34s) (10700 14%) 4.8802\n",
      "243m 32s (- 1447m 44s) (10800 14%) 5.0443\n",
      "247m 35s (- 1455m 59s) (10900 14%) 4.8516\n",
      "252m 21s (- 1468m 14s) (11000 14%) 4.8357\n",
      "255m 32s (- 1471m 6s) (11100 14%) 4.7837\n",
      "257m 40s (- 1467m 50s) (11200 14%) 4.6228\n",
      "260m 0s (- 1465m 41s) (11300 15%) 4.9842\n",
      "262m 28s (- 1464m 19s) (11400 15%) 4.8216\n",
      "264m 43s (- 1461m 45s) (11500 15%) 4.8054\n",
      "266m 50s (- 1458m 27s) (11600 15%) 4.4433\n",
      "269m 6s (- 1455m 58s) (11700 15%) 4.7342\n",
      "271m 13s (- 1452m 38s) (11800 15%) 4.6664\n",
      "273m 26s (- 1449m 57s) (11900 15%) 4.6868\n",
      "275m 46s (- 1447m 47s) (12000 16%) 4.8946\n",
      "277m 52s (- 1444m 28s) (12100 16%) 5.0508\n",
      "280m 17s (- 1442m 47s) (12200 16%) 4.9633\n",
      "282m 41s (- 1440m 59s) (12300 16%) 4.9617\n",
      "285m 4s (- 1439m 7s) (12400 16%) 4.7623\n",
      "287m 51s (- 1439m 17s) (12500 16%) 4.7677\n",
      "290m 54s (- 1440m 41s) (12600 16%) 5.0695\n",
      "293m 15s (- 1438m 35s) (12700 16%) 4.7836\n",
      "295m 23s (- 1435m 25s) (12800 17%) 4.6418\n",
      "297m 45s (- 1433m 23s) (12900 17%) 4.7977\n",
      "300m 10s (- 1431m 36s) (13000 17%) 4.9548\n",
      "302m 56s (- 1431m 28s) (13100 17%) 5.0119\n",
      "305m 28s (- 1430m 11s) (13200 17%) 5.0366\n",
      "308m 2s (- 1429m 0s) (13300 17%) 4.8078\n",
      "310m 33s (- 1427m 38s) (13400 17%) 4.8362\n",
      "313m 5s (- 1426m 19s) (13500 18%) 4.7478\n",
      "315m 32s (- 1424m 35s) (13600 18%) 4.8025\n",
      "318m 14s (- 1423m 58s) (13700 18%) 5.0885\n",
      "320m 54s (- 1423m 11s) (13800 18%) 4.9108\n",
      "323m 28s (- 1421m 53s) (13900 18%) 5.0020\n",
      "326m 8s (- 1421m 2s) (14000 18%) 4.9294\n",
      "328m 32s (- 1419m 0s) (14100 18%) 4.8073\n",
      "331m 11s (- 1418m 5s) (14200 18%) 4.7997\n",
      "333m 32s (- 1415m 48s) (14300 19%) 4.7969\n",
      "335m 54s (- 1413m 36s) (14400 19%) 4.6280\n",
      "338m 7s (- 1410m 49s) (14500 19%) 4.8260\n",
      "340m 18s (- 1407m 50s) (14600 19%) 4.7034\n",
      "342m 39s (- 1405m 34s) (14700 19%) 4.7057\n",
      "344m 50s (- 1402m 40s) (14800 19%) 4.6889\n",
      "347m 15s (- 1400m 43s) (14900 19%) 5.0327\n",
      "349m 28s (- 1397m 55s) (15000 20%) 4.6615\n",
      "352m 5s (- 1396m 44s) (15100 20%) 4.9176\n",
      "354m 19s (- 1394m 0s) (15200 20%) 4.5782\n",
      "356m 36s (- 1391m 28s) (15300 20%) 4.7428\n",
      "358m 57s (- 1389m 14s) (15400 20%) 4.5550\n",
      "361m 11s (- 1386m 28s) (15500 20%) 4.7763\n",
      "363m 30s (- 1384m 5s) (15600 20%) 4.6153\n",
      "365m 55s (- 1382m 7s) (15700 20%) 4.6826\n",
      "368m 18s (- 1380m 0s) (15800 21%) 4.7578\n",
      "371m 36s (- 1381m 17s) (15900 21%) 4.9987\n",
      "374m 22s (- 1380m 28s) (16000 21%) 4.6719\n",
      "377m 25s (- 1380m 45s) (16100 21%) 4.8701\n",
      "379m 54s (- 1378m 54s) (16200 21%) 4.6764\n",
      "382m 36s (- 1377m 53s) (16300 21%) 4.7087\n",
      "385m 54s (- 1378m 54s) (16400 21%) 4.7184\n",
      "389m 14s (- 1380m 2s) (16500 22%) 4.7870\n",
      "392m 17s (- 1380m 5s) (16600 22%) 4.7673\n",
      "395m 39s (- 1381m 16s) (16700 22%) 4.7225\n",
      "398m 58s (- 1382m 9s) (16800 22%) 4.6232\n",
      "401m 14s (- 1379m 24s) (16900 22%) 4.6277\n",
      "403m 32s (- 1376m 47s) (17000 22%) 4.8278\n",
      "405m 59s (- 1374m 41s) (17100 22%) 4.7405\n",
      "408m 8s (- 1371m 33s) (17200 22%) 4.4905\n",
      "410m 25s (- 1368m 51s) (17300 23%) 4.6793\n",
      "412m 35s (- 1365m 48s) (17400 23%) 4.5565\n",
      "414m 54s (- 1363m 15s) (17500 23%) 4.5551\n",
      "417m 18s (- 1360m 59s) (17600 23%) 4.7903\n",
      "419m 29s (- 1358m 1s) (17700 23%) 4.7453\n",
      "421m 44s (- 1355m 15s) (17800 23%) 4.9067\n",
      "423m 57s (- 1352m 24s) (17900 23%) 4.4745\n",
      "426m 26s (- 1350m 24s) (18000 24%) 4.7228\n",
      "428m 43s (- 1347m 45s) (18100 24%) 4.6899\n",
      "431m 2s (- 1345m 13s) (18200 24%) 4.7334\n",
      "433m 31s (- 1343m 12s) (18300 24%) 4.8014\n",
      "435m 49s (- 1340m 38s) (18400 24%) 4.6268\n",
      "438m 8s (- 1338m 7s) (18500 24%) 4.7162\n",
      "440m 32s (- 1335m 51s) (18600 24%) 4.6219\n",
      "442m 45s (- 1332m 59s) (18700 24%) 4.4608\n",
      "445m 9s (- 1330m 44s) (18800 25%) 4.7646\n",
      "447m 33s (- 1328m 29s) (18900 25%) 4.7980\n",
      "449m 57s (- 1326m 12s) (19000 25%) 4.7642\n",
      "452m 42s (- 1324m 57s) (19100 25%) 4.8086\n",
      "455m 10s (- 1322m 50s) (19200 25%) 4.6179\n",
      "457m 49s (- 1321m 18s) (19300 25%) 4.8141\n",
      "460m 21s (- 1319m 23s) (19400 25%) 4.7308\n",
      "462m 43s (- 1317m 0s) (19500 26%) 4.7168\n",
      "465m 19s (- 1315m 15s) (19600 26%) 4.6765\n",
      "468m 6s (- 1314m 1s) (19700 26%) 4.8706\n",
      "470m 25s (- 1311m 29s) (19800 26%) 4.7603\n",
      "472m 39s (- 1308m 42s) (19900 26%) 4.8142\n",
      "475m 12s (- 1306m 49s) (20000 26%) 4.7296\n",
      "477m 36s (- 1304m 31s) (20100 26%) 4.6270\n",
      "479m 58s (- 1302m 7s) (20200 26%) 4.7039\n",
      "482m 28s (- 1300m 3s) (20300 27%) 4.6874\n"
     ]
    },
    {
     "name": "stdout",
     "output_type": "stream",
     "text": [
      "484m 52s (- 1297m 45s) (20400 27%) 4.6438\n",
      "487m 22s (- 1295m 41s) (20500 27%) 4.7089\n",
      "489m 52s (- 1293m 39s) (20600 27%) 4.6774\n",
      "492m 8s (- 1290m 58s) (20700 27%) 4.7013\n",
      "494m 28s (- 1288m 28s) (20800 27%) 4.5525\n",
      "497m 1s (- 1286m 33s) (20900 27%) 4.6724\n",
      "499m 33s (- 1284m 35s) (21000 28%) 4.7349\n",
      "502m 30s (- 1283m 39s) (21100 28%) 4.7466\n",
      "505m 10s (- 1281m 59s) (21200 28%) 4.8550\n",
      "507m 39s (- 1279m 51s) (21300 28%) 4.5780\n",
      "510m 38s (- 1279m 0s) (21400 28%) 4.7470\n",
      "513m 32s (- 1277m 52s) (21500 28%) 4.8592\n",
      "516m 11s (- 1276m 8s) (21600 28%) 4.6022\n",
      "518m 54s (- 1274m 33s) (21700 28%) 4.6147\n",
      "521m 45s (- 1273m 17s) (21800 29%) 4.8511\n",
      "524m 13s (- 1271m 3s) (21900 29%) 4.5476\n",
      "527m 15s (- 1270m 13s) (22000 29%) 4.8637\n",
      "529m 53s (- 1268m 22s) (22100 29%) 4.8091\n",
      "534m 32s (- 1271m 20s) (22200 29%) 4.4252\n",
      "539m 0s (- 1273m 49s) (22300 29%) 4.4812\n",
      "544m 10s (- 1277m 50s) (22400 29%) 4.9969\n",
      "547m 44s (- 1278m 4s) (22500 30%) 4.6339\n",
      "550m 14s (- 1275m 45s) (22600 30%) 4.6097\n",
      "552m 33s (- 1273m 5s) (22700 30%) 4.6633\n",
      "554m 51s (- 1270m 19s) (22800 30%) 4.4353\n",
      "557m 12s (- 1267m 41s) (22900 30%) 4.6060\n",
      "559m 53s (- 1265m 50s) (23000 30%) 4.7557\n",
      "562m 19s (- 1263m 24s) (23100 30%) 4.5657\n",
      "564m 49s (- 1261m 7s) (23200 30%) 4.7471\n",
      "567m 17s (- 1258m 44s) (23300 31%) 4.6107\n",
      "569m 55s (- 1256m 45s) (23400 31%) 4.5390\n",
      "572m 14s (- 1254m 3s) (23500 31%) 4.5207\n",
      "574m 33s (- 1251m 21s) (23600 31%) 4.5366\n",
      "576m 57s (- 1248m 51s) (23700 31%) 4.9559\n",
      "579m 18s (- 1246m 14s) (23800 31%) 4.8980\n",
      "581m 44s (- 1243m 48s) (23900 31%) 4.6466\n",
      "584m 8s (- 1241m 18s) (24000 32%) 4.6685\n",
      "587m 0s (- 1239m 45s) (24100 32%) 4.6304\n",
      "589m 52s (- 1238m 15s) (24200 32%) 4.7253\n",
      "592m 12s (- 1235m 36s) (24300 32%) 4.6039\n",
      "594m 43s (- 1233m 20s) (24400 32%) 4.8123\n",
      "597m 36s (- 1231m 48s) (24500 32%) 4.7570\n",
      "600m 1s (- 1229m 18s) (24600 32%) 4.7449\n",
      "602m 28s (- 1226m 54s) (24700 32%) 4.5350\n",
      "604m 59s (- 1224m 37s) (24800 33%) 4.6384\n",
      "607m 39s (- 1222m 38s) (24900 33%) 4.7797\n",
      "610m 33s (- 1221m 6s) (25000 33%) 4.8136\n",
      "617m 53s (- 1228m 24s) (25100 33%) 4.6457\n",
      "1333m 29s (- 2635m 13s) (25200 33%) 4.7855\n"
     ]
    }
   ],
   "source": [
    "hidden_size = 256\n",
    "encoder1 = EncoderRNN(input_lang.n_words, hidden_size).to(device)\n",
    "# attn_decoder1 = AttnDecoderRNN(hidden_size, output_lang.n_words, dropout_p=0.1).to(device)\n",
    "#attn_decoder1 = BahdanauAttnDecoderRNN(hidden_size, output_lang.n_words, n_layers=1, dropout_p=0.1).to(device)\n",
    "attn_decoder1 = DecoderRNN(hidden_size, output_lang.n_words).to(device)\n",
    "\n",
    "\n",
    "##UNCOMMENT TO TRAIN THE MODEL\n",
    "trainIters(encoder1, attn_decoder1, 75000, print_every=100)\n",
    "\n",
    "# encoder1.load_state_dict(torch.load(\"encoder.pth\"))\n",
    "# attn_decoder1.load_state_dict(torch.load(\"attn_decoder.pth\"))"
   ]
  },
  {
   "cell_type": "code",
   "execution_count": 54,
   "metadata": {},
   "outputs": [],
   "source": [
    "torch.save(encoder1.state_dict(), \"encoder.pth\")\n",
    "torch.save(attn_decoder1.state_dict(), \"attn_decoder.pth\")"
   ]
  },
  {
   "cell_type": "code",
   "execution_count": 26,
   "metadata": {},
   "outputs": [
    {
     "name": "stdout",
     "output_type": "stream",
     "text": [
      "> il joue avec mon chat .\n",
      "= he s playing with my cat .\n",
      "< he s playing with my cat . <EOS>\n",
      "\n",
      "> il est tres deprime .\n",
      "= he is very depressed .\n",
      "< he s very depressed . <EOS>\n",
      "\n",
      "> vous etes tous a moi .\n",
      "= you re all mine .\n",
      "< you re all mine . <EOS>\n",
      "\n",
      "> tu es la meilleure .\n",
      "= you re the best .\n",
      "< you re the greatest . <EOS>\n",
      "\n",
      "> je ne vais pas porter ca .\n",
      "= i m not wearing this .\n",
      "< i m not telling this . <EOS>\n",
      "\n",
      "> on est dans les clous .\n",
      "= we re on schedule .\n",
      "< we re on . <EOS>\n",
      "\n",
      "> j aime skier .\n",
      "= i am fond of skiing .\n",
      "< i m fond of them . <EOS>\n",
      "\n",
      "> vous n y etes pas bonnes .\n",
      "= you re not good at this .\n",
      "< you re not at good this . <EOS>\n",
      "\n",
      "> nous sommes tres excites .\n",
      "= we re very excited .\n",
      "< we re very excited . <EOS>\n",
      "\n",
      "> je ramene une pizza a la maison .\n",
      "= i m bringing home a pizza .\n",
      "< i m seeing home home home . <EOS>\n",
      "\n"
     ]
    }
   ],
   "source": [
    "evaluateRandomly(encoder1, attn_decoder1)"
   ]
  },
  {
   "cell_type": "markdown",
   "metadata": {},
   "source": [
    "Visualizing Attention\n",
    "---------------------\n",
    "\n",
    "A useful property of the attention mechanism is its highly interpretable\n",
    "outputs. Because it is used to weight specific encoder outputs of the\n",
    "input sequence, we can imagine looking where the network is focused most\n",
    "at each time step."
   ]
  },
  {
   "cell_type": "code",
   "execution_count": 38,
   "metadata": {},
   "outputs": [
    {
     "name": "stdout",
     "output_type": "stream",
     "text": [
      "input = elle a cinq ans de moins que moi .\n",
      "output = she is six years older than me . <EOS>\n"
     ]
    },
    {
     "data": {
      "image/png": "[encoded data removed]",
      "text/plain": [
       "<matplotlib.figure.Figure at 0x11cc35240>"
      ]
     },
     "metadata": {},
     "output_type": "display_data"
    },
    {
     "name": "stdout",
     "output_type": "stream",
     "text": [
      "input = elle est trop petit .\n",
      "output = she is too fat . <EOS>\n"
     ]
    },
    {
     "data": {
      "image/png": "[encoded data removed]",
      "text/plain": [
       "<matplotlib.figure.Figure at 0x11cc35710>"
      ]
     },
     "metadata": {},
     "output_type": "display_data"
    },
    {
     "name": "stdout",
     "output_type": "stream",
     "text": [
      "input = je ne crains pas de mourir .\n",
      "output = i m not afraid to die . <EOS>\n"
     ]
    },
    {
     "data": {
      "image/png": "[encoded data removed]",
      "text/plain": [
       "<matplotlib.figure.Figure at 0x11f59ef98>"
      ]
     },
     "metadata": {},
     "output_type": "display_data"
    },
    {
     "name": "stdout",
     "output_type": "stream",
     "text": [
      "input = c est un jeune directeur plein de talent .\n",
      "output = he s a lovely young young . <EOS>\n"
     ]
    },
    {
     "data": {
      "image/png": "[encoded data removed]",
      "text/plain": [
       "<matplotlib.figure.Figure at 0x11cf3de80>"
      ]
     },
     "metadata": {},
     "output_type": "display_data"
    }
   ],
   "source": [
    "def showAttention(input_sentence, output_words, attentions):\n",
    "    \"\"\"\n",
    "    Function that takes in attention and visualize the attention.\n",
    "    @param - input_sentence: string the represent a list of words from source language\n",
    "    @param - output_words: the gold translation in target language\n",
    "    @param - attentions: a numpy array\n",
    "    \"\"\"\n",
    "    # Set up figure with colorbar    \n",
    "\n",
    "    fig = plt.figure()\n",
    "    ax = fig.add_subplot(111)\n",
    "    \n",
    "    # TODO: Add your code here to visualize the attention\n",
    "    # look at documentation for imshow https://matplotlib.org/api/_as_gen/matplotlib.axes.Axes.matshow.html\n",
    "\n",
    "    # Set up axes\n",
    "    ax.set_xticklabels([''] + input_sentence.split(' ') +\n",
    "                       ['<EOS>'], rotation=90)\n",
    "    ax.set_yticklabels([''] + output_words)\n",
    "\n",
    "    # Show label at every tick\n",
    "    ax.xaxis.set_major_locator(ticker.MultipleLocator(1))\n",
    "    ax.yaxis.set_major_locator(ticker.MultipleLocator(1))\n",
    "\n",
    "    plt.show()\n",
    "\n",
    "\n",
    "def evaluateAndShowAttention(input_sentence):\n",
    "    output_words, attentions = evaluate(\n",
    "        encoder1, attn_decoder1, input_sentence)\n",
    "    print('input =', input_sentence)\n",
    "    print('output =', ' '.join(output_words))\n",
    "    showAttention(input_sentence, output_words, attentions)\n",
    "\n",
    "\n",
    "evaluateAndShowAttention(\"elle a cinq ans de moins que moi .\")\n",
    "\n",
    "evaluateAndShowAttention(\"elle est trop petit .\")\n",
    "\n",
    "evaluateAndShowAttention(\"je ne crains pas de mourir .\")\n",
    "\n",
    "evaluateAndShowAttention(\"c est un jeune directeur plein de talent .\")"
   ]
  },
  {
   "cell_type": "markdown",
   "metadata": {},
   "source": [
    "Take-home Questions\n",
    "---------------------\n",
    "1. We used randomized initialization for word embedding. What's the advantage of using pre-trained embedding for initialization? Think about rare word.\n",
    "\n",
    "2. Which lines of code tell the decoder to stop generate output tokens?\n",
    "\n",
    "3. What's different in the training process when use_teacher_forcing is activated versus not activated?\n",
    "\n",
    "4. What's the loss we used when use_teacher_forcing mode is NOT activated? Is it a reasonable loss? Why?\n",
    "\n",
    "5. In the forward() function of AttnDecoder class, attention is computed for each output on all hidden states of source inputs. All source hidden states are stored in variable encoder_outputs. Did we directly use encoder_outputs when we compute attn_weights? If no, which variable gives information about all the source hidden states in the computation of attention weights?\n"
   ]
  },
  {
   "cell_type": "code",
   "execution_count": null,
   "metadata": {
    "collapsed": true
   },
   "outputs": [],
   "source": []
  }
 ],
 "metadata": {
  "kernelspec": {
   "display_name": "Python 3",
   "language": "python",
   "name": "python3"
  },
  "language_info": {
   "codemirror_mode": {
    "name": "ipython",
    "version": 3
   },
   "file_extension": ".py",
   "mimetype": "text/x-python",
   "name": "python",
   "nbconvert_exporter": "python",
   "pygments_lexer": "ipython3",
   "version": "3.6.6"
  }
 },
 "nbformat": 4,
 "nbformat_minor": 2
}
